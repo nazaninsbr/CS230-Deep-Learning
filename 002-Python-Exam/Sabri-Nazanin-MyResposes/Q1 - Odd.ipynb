{
 "cells": [
  {
   "cell_type": "code",
   "execution_count": 1,
   "metadata": {},
   "outputs": [
    {
     "data": {
      "text/plain": [
       "array([4, 7, 4, 4, 2, 7, 7, 5, 2, 3])"
      ]
     },
     "execution_count": 1,
     "metadata": {},
     "output_type": "execute_result"
    }
   ],
   "source": [
    "import numpy as np\n",
    "\n",
    "np.random.seed(0)\n",
    "\n",
    "a = np.random.randn(10,3)\n",
    "b = a.reshape(a.shape[0], 1, a.shape[1])\n",
    "\n",
    "pair_wise_distances = np.sqrt(np.einsum('ijk, ijk->ij', a-b, a-b))\n",
    "getting_the_second_minimum_dist = np.argpartition(pair_wise_distances,2)\n",
    "\n",
    "getting_the_second_minimum_dist[:, 1]"
   ]
  },
  {
   "cell_type": "code",
   "execution_count": null,
   "metadata": {},
   "outputs": [],
   "source": []
  }
 ],
 "metadata": {
  "kernelspec": {
   "display_name": "Python 3",
   "language": "python",
   "name": "python3"
  },
  "language_info": {
   "codemirror_mode": {
    "name": "ipython",
    "version": 3
   },
   "file_extension": ".py",
   "mimetype": "text/x-python",
   "name": "python",
   "nbconvert_exporter": "python",
   "pygments_lexer": "ipython3",
   "version": "3.6.9"
  }
 },
 "nbformat": 4,
 "nbformat_minor": 2
}
