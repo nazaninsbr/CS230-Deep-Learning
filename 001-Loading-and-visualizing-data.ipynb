{
 "cells": [
  {
   "cell_type": "markdown",
   "metadata": {},
   "source": [
    "# Data\n",
    "\n",
    "Dowload the following data and place them next to the code:\n",
    "\n",
    "(1) Electricity use per person \n",
    "\n",
    "(2) Oil consumption per person\n",
    "\n",
    "from: https://www.gapminder.org/data/"
   ]
  },
  {
   "cell_type": "code",
   "execution_count": 1,
   "metadata": {},
   "outputs": [],
   "source": [
    "import pandas as pd\n",
    "import matplotlib.pyplot as plt\n",
    "%matplotlib inline"
   ]
  },
  {
   "cell_type": "code",
   "execution_count": 2,
   "metadata": {},
   "outputs": [
    {
     "name": "stdout",
     "output_type": "stream",
     "text": [
      "001-Loading-and-visualizing-data.ipynb electricity_use_per_person.csv\r\n",
      "README.md                              oil_consumption_per_cap.csv\r\n"
     ]
    }
   ],
   "source": [
    "!ls"
   ]
  },
  {
   "cell_type": "code",
   "execution_count": 3,
   "metadata": {},
   "outputs": [],
   "source": [
    "oil_data_file_path = 'oil_consumption_per_cap.csv'\n",
    "electricity_data_file_path = 'electricity_use_per_person.csv'"
   ]
  },
  {
   "cell_type": "code",
   "execution_count": 4,
   "metadata": {},
   "outputs": [
    {
     "data": {
      "text/html": [
       "<div>\n",
       "<style scoped>\n",
       "    .dataframe tbody tr th:only-of-type {\n",
       "        vertical-align: middle;\n",
       "    }\n",
       "\n",
       "    .dataframe tbody tr th {\n",
       "        vertical-align: top;\n",
       "    }\n",
       "\n",
       "    .dataframe thead th {\n",
       "        text-align: right;\n",
       "    }\n",
       "</style>\n",
       "<table border=\"1\" class=\"dataframe\">\n",
       "  <thead>\n",
       "    <tr style=\"text-align: right;\">\n",
       "      <th></th>\n",
       "      <th>1965</th>\n",
       "      <th>1966</th>\n",
       "      <th>1967</th>\n",
       "      <th>1968</th>\n",
       "      <th>1969</th>\n",
       "      <th>1970</th>\n",
       "      <th>1971</th>\n",
       "      <th>1972</th>\n",
       "      <th>1973</th>\n",
       "      <th>1974</th>\n",
       "      <th>...</th>\n",
       "      <th>2007</th>\n",
       "      <th>2008</th>\n",
       "      <th>2009</th>\n",
       "      <th>2010</th>\n",
       "      <th>2011</th>\n",
       "      <th>2012</th>\n",
       "      <th>2013</th>\n",
       "      <th>2014</th>\n",
       "      <th>2015</th>\n",
       "      <th>2016</th>\n",
       "    </tr>\n",
       "    <tr>\n",
       "      <th>country</th>\n",
       "      <th></th>\n",
       "      <th></th>\n",
       "      <th></th>\n",
       "      <th></th>\n",
       "      <th></th>\n",
       "      <th></th>\n",
       "      <th></th>\n",
       "      <th></th>\n",
       "      <th></th>\n",
       "      <th></th>\n",
       "      <th></th>\n",
       "      <th></th>\n",
       "      <th></th>\n",
       "      <th></th>\n",
       "      <th></th>\n",
       "      <th></th>\n",
       "      <th></th>\n",
       "      <th></th>\n",
       "      <th></th>\n",
       "      <th></th>\n",
       "      <th></th>\n",
       "    </tr>\n",
       "  </thead>\n",
       "  <tbody>\n",
       "    <tr>\n",
       "      <th>Algeria</th>\n",
       "      <td>0.102</td>\n",
       "      <td>0.13</td>\n",
       "      <td>0.118</td>\n",
       "      <td>0.122</td>\n",
       "      <td>0.125</td>\n",
       "      <td>0.140</td>\n",
       "      <td>0.153</td>\n",
       "      <td>0.163</td>\n",
       "      <td>0.173</td>\n",
       "      <td>0.187</td>\n",
       "      <td>...</td>\n",
       "      <td>0.376</td>\n",
       "      <td>0.402</td>\n",
       "      <td>0.419</td>\n",
       "      <td>0.411</td>\n",
       "      <td>0.430</td>\n",
       "      <td>0.448</td>\n",
       "      <td>0.458</td>\n",
       "      <td>0.452</td>\n",
       "      <td>0.488</td>\n",
       "      <td>0.465</td>\n",
       "    </tr>\n",
       "    <tr>\n",
       "      <th>Argentina</th>\n",
       "      <td>0.990</td>\n",
       "      <td>1.01</td>\n",
       "      <td>1.020</td>\n",
       "      <td>1.020</td>\n",
       "      <td>1.050</td>\n",
       "      <td>0.923</td>\n",
       "      <td>0.969</td>\n",
       "      <td>0.954</td>\n",
       "      <td>0.939</td>\n",
       "      <td>0.930</td>\n",
       "      <td>...</td>\n",
       "      <td>0.605</td>\n",
       "      <td>0.616</td>\n",
       "      <td>0.596</td>\n",
       "      <td>0.681</td>\n",
       "      <td>0.679</td>\n",
       "      <td>0.703</td>\n",
       "      <td>0.749</td>\n",
       "      <td>0.729</td>\n",
       "      <td>0.741</td>\n",
       "      <td>0.728</td>\n",
       "    </tr>\n",
       "  </tbody>\n",
       "</table>\n",
       "<p>2 rows × 52 columns</p>\n",
       "</div>"
      ],
      "text/plain": [
       "            1965  1966   1967   1968   1969   1970   1971   1972   1973  \\\n",
       "country                                                                   \n",
       "Algeria    0.102  0.13  0.118  0.122  0.125  0.140  0.153  0.163  0.173   \n",
       "Argentina  0.990  1.01  1.020  1.020  1.050  0.923  0.969  0.954  0.939   \n",
       "\n",
       "            1974  ...   2007   2008   2009   2010   2011   2012   2013   2014  \\\n",
       "country           ...                                                           \n",
       "Algeria    0.187  ...  0.376  0.402  0.419  0.411  0.430  0.448  0.458  0.452   \n",
       "Argentina  0.930  ...  0.605  0.616  0.596  0.681  0.679  0.703  0.749  0.729   \n",
       "\n",
       "            2015   2016  \n",
       "country                  \n",
       "Algeria    0.488  0.465  \n",
       "Argentina  0.741  0.728  \n",
       "\n",
       "[2 rows x 52 columns]"
      ]
     },
     "execution_count": 4,
     "metadata": {},
     "output_type": "execute_result"
    }
   ],
   "source": [
    "oil_df = pd.read_csv(oil_data_file_path, index_col='country')\n",
    "oil_df.columns = [int(val) for val in oil_df.columns]\n",
    "oil_df.head(2)"
   ]
  },
  {
   "cell_type": "code",
   "execution_count": 5,
   "metadata": {},
   "outputs": [
    {
     "data": {
      "text/html": [
       "<div>\n",
       "<style scoped>\n",
       "    .dataframe tbody tr th:only-of-type {\n",
       "        vertical-align: middle;\n",
       "    }\n",
       "\n",
       "    .dataframe tbody tr th {\n",
       "        vertical-align: top;\n",
       "    }\n",
       "\n",
       "    .dataframe thead th {\n",
       "        text-align: right;\n",
       "    }\n",
       "</style>\n",
       "<table border=\"1\" class=\"dataframe\">\n",
       "  <thead>\n",
       "    <tr style=\"text-align: right;\">\n",
       "      <th></th>\n",
       "      <th>1960</th>\n",
       "      <th>1961</th>\n",
       "      <th>1962</th>\n",
       "      <th>1963</th>\n",
       "      <th>1964</th>\n",
       "      <th>1965</th>\n",
       "      <th>1966</th>\n",
       "      <th>1967</th>\n",
       "      <th>1968</th>\n",
       "      <th>1969</th>\n",
       "      <th>...</th>\n",
       "      <th>2005</th>\n",
       "      <th>2006</th>\n",
       "      <th>2007</th>\n",
       "      <th>2008</th>\n",
       "      <th>2009</th>\n",
       "      <th>2010</th>\n",
       "      <th>2011</th>\n",
       "      <th>2012</th>\n",
       "      <th>2013</th>\n",
       "      <th>2014</th>\n",
       "    </tr>\n",
       "    <tr>\n",
       "      <th>country</th>\n",
       "      <th></th>\n",
       "      <th></th>\n",
       "      <th></th>\n",
       "      <th></th>\n",
       "      <th></th>\n",
       "      <th></th>\n",
       "      <th></th>\n",
       "      <th></th>\n",
       "      <th></th>\n",
       "      <th></th>\n",
       "      <th></th>\n",
       "      <th></th>\n",
       "      <th></th>\n",
       "      <th></th>\n",
       "      <th></th>\n",
       "      <th></th>\n",
       "      <th></th>\n",
       "      <th></th>\n",
       "      <th></th>\n",
       "      <th></th>\n",
       "      <th></th>\n",
       "    </tr>\n",
       "  </thead>\n",
       "  <tbody>\n",
       "    <tr>\n",
       "      <th>Albania</th>\n",
       "      <td>NaN</td>\n",
       "      <td>NaN</td>\n",
       "      <td>NaN</td>\n",
       "      <td>NaN</td>\n",
       "      <td>NaN</td>\n",
       "      <td>NaN</td>\n",
       "      <td>NaN</td>\n",
       "      <td>NaN</td>\n",
       "      <td>NaN</td>\n",
       "      <td>NaN</td>\n",
       "      <td>...</td>\n",
       "      <td>1720.0</td>\n",
       "      <td>1220.0</td>\n",
       "      <td>1210.0</td>\n",
       "      <td>1620.0</td>\n",
       "      <td>1840.0</td>\n",
       "      <td>1940.0</td>\n",
       "      <td>2210.0</td>\n",
       "      <td>2120.0</td>\n",
       "      <td>2530.0</td>\n",
       "      <td>2310.0</td>\n",
       "    </tr>\n",
       "    <tr>\n",
       "      <th>Algeria</th>\n",
       "      <td>NaN</td>\n",
       "      <td>NaN</td>\n",
       "      <td>NaN</td>\n",
       "      <td>NaN</td>\n",
       "      <td>NaN</td>\n",
       "      <td>NaN</td>\n",
       "      <td>NaN</td>\n",
       "      <td>NaN</td>\n",
       "      <td>NaN</td>\n",
       "      <td>NaN</td>\n",
       "      <td>...</td>\n",
       "      <td>891.0</td>\n",
       "      <td>862.0</td>\n",
       "      <td>894.0</td>\n",
       "      <td>947.0</td>\n",
       "      <td>866.0</td>\n",
       "      <td>1020.0</td>\n",
       "      <td>1120.0</td>\n",
       "      <td>1240.0</td>\n",
       "      <td>1280.0</td>\n",
       "      <td>1360.0</td>\n",
       "    </tr>\n",
       "  </tbody>\n",
       "</table>\n",
       "<p>2 rows × 55 columns</p>\n",
       "</div>"
      ],
      "text/plain": [
       "         1960  1961  1962  1963  1964  1965  1966  1967  1968  1969  ...  \\\n",
       "country                                                              ...   \n",
       "Albania   NaN   NaN   NaN   NaN   NaN   NaN   NaN   NaN   NaN   NaN  ...   \n",
       "Algeria   NaN   NaN   NaN   NaN   NaN   NaN   NaN   NaN   NaN   NaN  ...   \n",
       "\n",
       "           2005    2006    2007    2008    2009    2010    2011    2012  \\\n",
       "country                                                                   \n",
       "Albania  1720.0  1220.0  1210.0  1620.0  1840.0  1940.0  2210.0  2120.0   \n",
       "Algeria   891.0   862.0   894.0   947.0   866.0  1020.0  1120.0  1240.0   \n",
       "\n",
       "           2013    2014  \n",
       "country                  \n",
       "Albania  2530.0  2310.0  \n",
       "Algeria  1280.0  1360.0  \n",
       "\n",
       "[2 rows x 55 columns]"
      ]
     },
     "execution_count": 5,
     "metadata": {},
     "output_type": "execute_result"
    }
   ],
   "source": [
    "electricity_df = pd.read_csv(electricity_data_file_path, index_col='country')\n",
    "electricity_df.columns = [int(val) for val in electricity_df.columns]\n",
    "electricity_df.head(2)"
   ]
  },
  {
   "cell_type": "code",
   "execution_count": 6,
   "metadata": {},
   "outputs": [
    {
     "data": {
      "text/plain": [
       "(65, 55)"
      ]
     },
     "execution_count": 6,
     "metadata": {},
     "output_type": "execute_result"
    }
   ],
   "source": [
    "electricity_matching_oil_df = electricity_df.loc[oil_df.index, :]\n",
    "electricity_matching_oil_df.shape"
   ]
  },
  {
   "cell_type": "code",
   "execution_count": 7,
   "metadata": {},
   "outputs": [
    {
     "data": {
      "text/plain": [
       "Int64Index([1960, 1961, 1962, 1963, 1964, 1965, 1966, 1967, 1968, 1969, 1970,\n",
       "            1971, 1972, 1973, 1974, 1975, 1976, 1977, 1978, 1979, 1980, 1981,\n",
       "            1982, 1983, 1984, 1985, 1986, 1987, 1988, 1989, 1990, 1991, 1992,\n",
       "            1993, 1994, 1995, 1996, 1997, 1998, 1999, 2000, 2001, 2002, 2003,\n",
       "            2004, 2005, 2006, 2007, 2008, 2009, 2010, 2011, 2012, 2013, 2014],\n",
       "           dtype='int64')"
      ]
     },
     "execution_count": 7,
     "metadata": {},
     "output_type": "execute_result"
    }
   ],
   "source": [
    "electricity_matching_oil_df.columns"
   ]
  },
  {
   "cell_type": "code",
   "execution_count": 8,
   "metadata": {},
   "outputs": [],
   "source": [
    "electricity_matching_oil_df = electricity_matching_oil_df[range(1971, 2015)]\n",
    "oil_df = oil_df[range(1971, 2015)]"
   ]
  },
  {
   "cell_type": "code",
   "execution_count": 9,
   "metadata": {},
   "outputs": [],
   "source": [
    "electricity_matching_oil_df = electricity_matching_oil_df.fillna(method='bfill', axis=1)\n",
    "oil_df = oil_df.fillna(method='bfill', axis=1)"
   ]
  },
  {
   "cell_type": "code",
   "execution_count": 10,
   "metadata": {},
   "outputs": [
    {
     "data": {
      "text/plain": [
       "1971    0\n",
       "1972    0\n",
       "1973    0\n",
       "1974    0\n",
       "1975    0\n",
       "1976    0\n",
       "1977    0\n",
       "1978    0\n",
       "1979    0\n",
       "1980    0\n",
       "1981    0\n",
       "1982    0\n",
       "1983    0\n",
       "1984    0\n",
       "1985    0\n",
       "1986    0\n",
       "1987    0\n",
       "1988    0\n",
       "1989    0\n",
       "1990    0\n",
       "1991    0\n",
       "1992    0\n",
       "1993    0\n",
       "1994    0\n",
       "1995    0\n",
       "1996    0\n",
       "1997    0\n",
       "1998    0\n",
       "1999    0\n",
       "2000    0\n",
       "2001    0\n",
       "2002    0\n",
       "2003    0\n",
       "2004    0\n",
       "2005    0\n",
       "2006    0\n",
       "2007    0\n",
       "2008    0\n",
       "2009    0\n",
       "2010    0\n",
       "2011    0\n",
       "2012    0\n",
       "2013    0\n",
       "2014    0\n",
       "dtype: int64"
      ]
     },
     "execution_count": 10,
     "metadata": {},
     "output_type": "execute_result"
    }
   ],
   "source": [
    "oil_df.isna().sum()"
   ]
  },
  {
   "cell_type": "code",
   "execution_count": 11,
   "metadata": {},
   "outputs": [
    {
     "data": {
      "text/plain": [
       "<matplotlib.image.AxesImage at 0x114e9fef0>"
      ]
     },
     "execution_count": 11,
     "metadata": {},
     "output_type": "execute_result"
    },
    {
     "data": {
      "image/png": "[encoded data removed]",
      "text/plain": [
       "<Figure size 1080x720 with 2 Axes>"
      ]
     },
     "metadata": {
      "needs_background": "light"
     },
     "output_type": "display_data"
    }
   ],
   "source": [
    "plt.figure(figsize=(15, 10))\n",
    "plt.subplot(1, 2, 1)\n",
    "plt.imshow(oil_df)\n",
    "plt.subplot(1, 2, 2)\n",
    "plt.imshow(electricity_matching_oil_df)"
   ]
  },
  {
   "cell_type": "code",
   "execution_count": 12,
   "metadata": {},
   "outputs": [
    {
     "data": {
      "text/plain": [
       "[<matplotlib.lines.Line2D at 0x1159ec2b0>]"
      ]
     },
     "execution_count": 12,
     "metadata": {},
     "output_type": "execute_result"
    },
    {
     "data": {
      "image/png": "[encoded data removed]",
      "text/plain": [
       "<Figure size 432x288 with 1 Axes>"
      ]
     },
     "metadata": {
      "needs_background": "light"
     },
     "output_type": "display_data"
    }
   ],
   "source": [
    "plt.plot(oil_df.loc['Iran', :])"
   ]
  },
  {
   "cell_type": "code",
   "execution_count": 15,
   "metadata": {},
   "outputs": [
    {
     "data": {
      "text/plain": [
       "[<matplotlib.lines.Line2D at 0x115f077f0>]"
      ]
     },
     "execution_count": 15,
     "metadata": {},
     "output_type": "execute_result"
    },
    {
     "data": {
      "image/png": "[encoded data removed]",
      "text/plain": [
       "<Figure size 432x288 with 2 Axes>"
      ]
     },
     "metadata": {
      "needs_background": "light"
     },
     "output_type": "display_data"
    }
   ],
   "source": [
    "plt.subplot(2, 1, 1)\n",
    "plt.plot(oil_df.loc['Iran', :])\n",
    "plt.subplot(2, 1, 2)\n",
    "plt.plot(electricity_matching_oil_df.loc['Iran', :])"
   ]
  },
  {
   "cell_type": "code",
   "execution_count": null,
   "metadata": {},
   "outputs": [],
   "source": []
  }
 ],
 "metadata": {
  "kernelspec": {
   "display_name": "Python 3",
   "language": "python",
   "name": "python3"
  },
  "language_info": {
   "codemirror_mode": {
    "name": "ipython",
    "version": 3
   },
   "file_extension": ".py",
   "mimetype": "text/x-python",
   "name": "python",
   "nbconvert_exporter": "python",
   "pygments_lexer": "ipython3",
   "version": "3.6.9"
  }
 },
 "nbformat": 4,
 "nbformat_minor": 2
}
