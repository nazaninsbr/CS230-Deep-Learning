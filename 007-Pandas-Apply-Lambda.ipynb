{
 "cells": [
  {
   "cell_type": "code",
   "execution_count": 1,
   "metadata": {},
   "outputs": [],
   "source": [
    "import pandas as pd\n",
    "\n",
    "df = pd.read_csv('oil_consumption_per_cap.csv')"
   ]
  },
  {
   "cell_type": "code",
   "execution_count": 2,
   "metadata": {},
   "outputs": [
    {
     "data": {
      "text/html": [
       "<div>\n",
       "<style scoped>\n",
       "    .dataframe tbody tr th:only-of-type {\n",
       "        vertical-align: middle;\n",
       "    }\n",
       "\n",
       "    .dataframe tbody tr th {\n",
       "        vertical-align: top;\n",
       "    }\n",
       "\n",
       "    .dataframe thead th {\n",
       "        text-align: right;\n",
       "    }\n",
       "</style>\n",
       "<table border=\"1\" class=\"dataframe\">\n",
       "  <thead>\n",
       "    <tr style=\"text-align: right;\">\n",
       "      <th></th>\n",
       "      <th>country</th>\n",
       "      <th>1965</th>\n",
       "      <th>1966</th>\n",
       "      <th>1967</th>\n",
       "      <th>1968</th>\n",
       "      <th>1969</th>\n",
       "      <th>1970</th>\n",
       "      <th>1971</th>\n",
       "      <th>1972</th>\n",
       "      <th>1973</th>\n",
       "      <th>...</th>\n",
       "      <th>2007</th>\n",
       "      <th>2008</th>\n",
       "      <th>2009</th>\n",
       "      <th>2010</th>\n",
       "      <th>2011</th>\n",
       "      <th>2012</th>\n",
       "      <th>2013</th>\n",
       "      <th>2014</th>\n",
       "      <th>2015</th>\n",
       "      <th>2016</th>\n",
       "    </tr>\n",
       "  </thead>\n",
       "  <tbody>\n",
       "    <tr>\n",
       "      <th>0</th>\n",
       "      <td>Algeria</td>\n",
       "      <td>0.102</td>\n",
       "      <td>0.13</td>\n",
       "      <td>0.118</td>\n",
       "      <td>0.122</td>\n",
       "      <td>0.125</td>\n",
       "      <td>0.140</td>\n",
       "      <td>0.153</td>\n",
       "      <td>0.163</td>\n",
       "      <td>0.173</td>\n",
       "      <td>...</td>\n",
       "      <td>0.376</td>\n",
       "      <td>0.402</td>\n",
       "      <td>0.419</td>\n",
       "      <td>0.411</td>\n",
       "      <td>0.430</td>\n",
       "      <td>0.448</td>\n",
       "      <td>0.458</td>\n",
       "      <td>0.452</td>\n",
       "      <td>0.488</td>\n",
       "      <td>0.465</td>\n",
       "    </tr>\n",
       "    <tr>\n",
       "      <th>1</th>\n",
       "      <td>Argentina</td>\n",
       "      <td>0.990</td>\n",
       "      <td>1.01</td>\n",
       "      <td>1.020</td>\n",
       "      <td>1.020</td>\n",
       "      <td>1.050</td>\n",
       "      <td>0.923</td>\n",
       "      <td>0.969</td>\n",
       "      <td>0.954</td>\n",
       "      <td>0.939</td>\n",
       "      <td>...</td>\n",
       "      <td>0.605</td>\n",
       "      <td>0.616</td>\n",
       "      <td>0.596</td>\n",
       "      <td>0.681</td>\n",
       "      <td>0.679</td>\n",
       "      <td>0.703</td>\n",
       "      <td>0.749</td>\n",
       "      <td>0.729</td>\n",
       "      <td>0.741</td>\n",
       "      <td>0.728</td>\n",
       "    </tr>\n",
       "  </tbody>\n",
       "</table>\n",
       "<p>2 rows × 53 columns</p>\n",
       "</div>"
      ],
      "text/plain": [
       "     country   1965  1966   1967   1968   1969   1970   1971   1972   1973  \\\n",
       "0    Algeria  0.102  0.13  0.118  0.122  0.125  0.140  0.153  0.163  0.173   \n",
       "1  Argentina  0.990  1.01  1.020  1.020  1.050  0.923  0.969  0.954  0.939   \n",
       "\n",
       "   ...   2007   2008   2009   2010   2011   2012   2013   2014   2015   2016  \n",
       "0  ...  0.376  0.402  0.419  0.411  0.430  0.448  0.458  0.452  0.488  0.465  \n",
       "1  ...  0.605  0.616  0.596  0.681  0.679  0.703  0.749  0.729  0.741  0.728  \n",
       "\n",
       "[2 rows x 53 columns]"
      ]
     },
     "execution_count": 2,
     "metadata": {},
     "output_type": "execute_result"
    }
   ],
   "source": [
    "df.head(2)"
   ]
  },
  {
   "cell_type": "code",
   "execution_count": 3,
   "metadata": {},
   "outputs": [
    {
     "data": {
      "text/plain": [
       "0     0.175561\n",
       "1     0.355216\n",
       "2     4.000000\n",
       "3     2.340900\n",
       "4     0.137641\n",
       "        ...   \n",
       "60    1.464100\n",
       "61    7.398400\n",
       "62    0.023104\n",
       "63    1.440000\n",
       "64    0.027889\n",
       "Name: 2009, Length: 65, dtype: float64"
      ]
     },
     "execution_count": 3,
     "metadata": {},
     "output_type": "execute_result"
    }
   ],
   "source": [
    "def my_function(x):\n",
    "    return x*x\n",
    "\n",
    "df['2009'].apply(my_function)"
   ]
  },
  {
   "cell_type": "code",
   "execution_count": 5,
   "metadata": {},
   "outputs": [
    {
     "data": {
      "text/plain": [
       "0     0.838\n",
       "1     1.192\n",
       "2     4.000\n",
       "3     3.060\n",
       "4     0.742\n",
       "      ...  \n",
       "60    2.420\n",
       "61    5.440\n",
       "62    0.304\n",
       "63    2.400\n",
       "64    0.334\n",
       "Name: 2009, Length: 65, dtype: float64"
      ]
     },
     "execution_count": 5,
     "metadata": {},
     "output_type": "execute_result"
    }
   ],
   "source": [
    "df['2009'].apply(lambda x: 2*x)"
   ]
  },
  {
   "cell_type": "code",
   "execution_count": null,
   "metadata": {},
   "outputs": [],
   "source": []
  }
 ],
 "metadata": {
  "kernelspec": {
   "display_name": "Python 3",
   "language": "python",
   "name": "python3"
  },
  "language_info": {
   "codemirror_mode": {
    "name": "ipython",
    "version": 3
   },
   "file_extension": ".py",
   "mimetype": "text/x-python",
   "name": "python",
   "nbconvert_exporter": "python",
   "pygments_lexer": "ipython3",
   "version": "3.6.9"
  }
 },
 "nbformat": 4,
 "nbformat_minor": 2
}
