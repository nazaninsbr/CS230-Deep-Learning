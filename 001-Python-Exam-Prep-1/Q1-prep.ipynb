{
 "cells": [
  {
   "cell_type": "code",
   "execution_count": 1,
   "metadata": {},
   "outputs": [],
   "source": [
    "import numpy as np\n",
    "import random"
   ]
  },
  {
   "cell_type": "markdown",
   "metadata": {},
   "source": [
    "## Functions"
   ]
  },
  {
   "cell_type": "code",
   "execution_count": 2,
   "metadata": {},
   "outputs": [],
   "source": [
    "def create_random_data(number_of_points, number_of_dimentions, distribution):\n",
    "    created_data = {}\n",
    "    for dim in range(number_of_dimentions):\n",
    "        if distribution['name']=='normal':\n",
    "            generated_values = np.random.normal(distribution['mu'][dim], distribution['sigma'][dim], number_of_points)\n",
    "        elif distribution['name']=='uniform':\n",
    "            generated_values = np.array([random.uniform(distribution['min'][dim], distribution['max'][dim]) for _ in range(number_of_points)])\n",
    "        created_data[dim] = generated_values\n",
    "    return created_data"
   ]
  },
  {
   "cell_type": "code",
   "execution_count": 3,
   "metadata": {},
   "outputs": [],
   "source": [
    "def find_number_of_points_with_atleast_one_dim_less_than_val(x, y, val):\n",
    "    matched_count = 0\n",
    "    for i in range(x.shape[0]):\n",
    "        if x[i]<val or y[i]<val:\n",
    "            matched_count += 1\n",
    "    print(matched_count)"
   ]
  },
  {
   "cell_type": "code",
   "execution_count": 4,
   "metadata": {},
   "outputs": [],
   "source": [
    "def find_number_of_points_with_all_dims_less_than_val(x, y, val):\n",
    "    matched_count = 0\n",
    "    for i in range(x.shape[0]):\n",
    "        if x[i]<val and y[i]<val:\n",
    "            matched_count += 1\n",
    "    print(matched_count)"
   ]
  },
  {
   "cell_type": "code",
   "execution_count": 5,
   "metadata": {},
   "outputs": [],
   "source": [
    "def make_array_and_get_basic_information(li):\n",
    "    arr = np.array(li)\n",
    "    print(arr.ndim)\n",
    "    print(arr.dtype)\n",
    "    print(arr.itemsize)\n",
    "    return arr"
   ]
  },
  {
   "cell_type": "code",
   "execution_count": 6,
   "metadata": {},
   "outputs": [],
   "source": [
    "def get_covariance(x, y):\n",
    "    X = np.stack((x, y), axis=0)\n",
    "    print(np.cov(X))"
   ]
  },
  {
   "cell_type": "code",
   "execution_count": 7,
   "metadata": {},
   "outputs": [],
   "source": [
    "def find_max_distance(x, y, ref_point):\n",
    "    max_dist, max_dist_index = None, None\n",
    "    for i in range(x.shape[0]):\n",
    "        d = np.linalg.norm(np.array([x[i], y[i]])-ref_point)\n",
    "        if max_dist == None or d>max_dist:\n",
    "            max_dist = d\n",
    "            max_dist_index = i\n",
    "    print(max_dist, [x[max_dist_index], y[max_dist_index]])"
   ]
  },
  {
   "cell_type": "code",
   "execution_count": 8,
   "metadata": {},
   "outputs": [],
   "source": [
    "def calculate_mean_of_points(x, y):\n",
    "    x_mean = np.mean(x)\n",
    "    y_mean = np.mean(y)\n",
    "    mid_point = np.array([x_mean, y_mean])\n",
    "    print(mid_point)\n",
    "    return mid_point"
   ]
  },
  {
   "cell_type": "code",
   "execution_count": 9,
   "metadata": {},
   "outputs": [],
   "source": [
    "def calculate_Euclidean_distance(p1, p2):\n",
    "    dist = np.linalg.norm(p1-p2)\n",
    "    print(dist)"
   ]
  },
  {
   "cell_type": "markdown",
   "metadata": {},
   "source": [
    "## Method 1"
   ]
  },
  {
   "cell_type": "code",
   "execution_count": 10,
   "metadata": {},
   "outputs": [
    {
     "name": "stdout",
     "output_type": "stream",
     "text": [
      "46\n",
      "0\n",
      "[2.0011116  1.97592379]\n",
      "0.024101852894162074\n",
      "3.603831732064621 [1.2141243123489096, -1.5171014424657714]\n",
      "[[ 1.0146863  -0.03686357]\n",
      " [-0.03686357  1.06603871]]\n"
     ]
    }
   ],
   "source": [
    "data = create_random_data(\n",
    "    number_of_points = 1000, \n",
    "    number_of_dimentions = 2, \n",
    "    distribution = {'name':'normal', 'mu':[2, 2], 'sigma': [1, 1]})\n",
    "x, y = data[0], data[1]\n",
    "find_number_of_points_with_atleast_one_dim_less_than_val(x, y, val=0)\n",
    "find_number_of_points_with_all_dims_less_than_val(x, y, val=0)\n",
    "\n",
    "mean_point = calculate_mean_of_points(x, y)\n",
    "calculate_Euclidean_distance(mean_point, np.array([2, 2]))\n",
    "\n",
    "find_max_distance(x, y, np.array([2, 2]))\n",
    "\n",
    "get_covariance(x, y)"
   ]
  },
  {
   "cell_type": "markdown",
   "metadata": {},
   "source": [
    "## Method 2"
   ]
  },
  {
   "cell_type": "code",
   "execution_count": 11,
   "metadata": {},
   "outputs": [
    {
     "data": {
      "text/plain": [
       "(array([[3.21299139, 1.38999408],\n",
       "        [2.78647955, 0.42997765],\n",
       "        [0.39404957, 3.23513253]]),\n",
       " array([3.21299139, 2.78647955, 0.39404957]),\n",
       " array([1.38999408, 0.42997765, 3.23513253]))"
      ]
     },
     "execution_count": 11,
     "metadata": {},
     "output_type": "execute_result"
    }
   ],
   "source": [
    "mean = [2,2]\n",
    "cov = [[1,0],[0,1]]\n",
    "x, y, = np.random.multivariate_normal(mean, cov, 1000).T\n",
    "points = np.stack((x, y), axis=1)\n",
    "points[:3], x[:3], y[:3]"
   ]
  },
  {
   "cell_type": "code",
   "execution_count": null,
   "metadata": {},
   "outputs": [],
   "source": []
  }
 ],
 "metadata": {
  "kernelspec": {
   "display_name": "Python 3",
   "language": "python",
   "name": "python3"
  },
  "language_info": {
   "codemirror_mode": {
    "name": "ipython",
    "version": 3
   },
   "file_extension": ".py",
   "mimetype": "text/x-python",
   "name": "python",
   "nbconvert_exporter": "python",
   "pygments_lexer": "ipython3",
   "version": "3.6.9"
  }
 },
 "nbformat": 4,
 "nbformat_minor": 2
}
